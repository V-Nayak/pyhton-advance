{
  "nbformat": 4,
  "nbformat_minor": 0,
  "metadata": {
    "colab": {
      "provenance": [],
      "authorship_tag": "ABX9TyNpvUa5WFkQ6Hjowf06tagq",
      "include_colab_link": true
    },
    "kernelspec": {
      "name": "python3",
      "display_name": "Python 3"
    },
    "language_info": {
      "name": "python"
    }
  },
  "cells": [
    {
      "cell_type": "markdown",
      "metadata": {
        "id": "view-in-github",
        "colab_type": "text"
      },
      "source": [
        "<a href=\"https://colab.research.google.com/github/V-Nayak/pyhton-advance/blob/main/serialization_.ipynb\" target=\"_parent\"><img src=\"https://colab.research.google.com/assets/colab-badge.svg\" alt=\"Open In Colab\"/></a>"
      ]
    },
    {
      "cell_type": "code",
      "execution_count": null,
      "metadata": {
        "id": "Qf3NCz-TziE_"
      },
      "outputs": [],
      "source": []
    },
    {
      "cell_type": "markdown",
      "source": [
        "Serialization :is nothing but converting information item in memory into layout that may be saved, transmitted, later reconstructed into original object."
      ],
      "metadata": {
        "id": "0X6O9KINzoiq"
      }
    },
    {
      "cell_type": "markdown",
      "source": [
        "TYPES: integrated serialization Modules:\n",
        "\n",
        "\n",
        "1.   Pickle\n",
        "2.   Json\n",
        "3.   Marshal\n",
        "4.   Msgpack\n",
        "5.   yaml\n",
        "\n"
      ],
      "metadata": {
        "id": "w7yLiJuL0GKg"
      }
    },
    {
      "cell_type": "markdown",
      "source": [
        "**Pickle: serialization of any python object.**\n",
        "\n",
        "seri--> pickle.dump(obj.file)\n",
        "\n",
        "deseri-->pickle.load(file)"
      ],
      "metadata": {
        "id": "W45VMgfG0ljX"
      }
    },
    {
      "cell_type": "code",
      "source": [
        "serialization = pickle.dump(obj,file)\n",
        "deserialization = pickle.load(file)"
      ],
      "metadata": {
        "id": "tb_sImEhNdtS"
      },
      "execution_count": null,
      "outputs": []
    },
    {
      "cell_type": "markdown",
      "source": [
        "**USE CASES :**\n",
        "\n",
        "1.Saving ML models\n",
        "\n",
        "2.Saving Complex Data Structures.\n",
        "\n",
        "3.Caching Expensive computations.\n",
        "\n",
        "4.Data transfer between processes.\n",
        "\n",
        "5.Storing web Scrapping Data."
      ],
      "metadata": {
        "id": "SHJA5e0b1Fy5"
      }
    },
    {
      "cell_type": "code",
      "source": [],
      "metadata": {
        "id": "wCtFLN-qNbNB"
      },
      "execution_count": null,
      "outputs": []
    },
    {
      "cell_type": "markdown",
      "source": [],
      "metadata": {
        "id": "DmYS2Vhm1p46"
      }
    }
  ]
}